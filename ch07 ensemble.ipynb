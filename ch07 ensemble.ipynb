{
 "cells": [
  {
   "cell_type": "code",
   "execution_count": 7,
   "metadata": {},
   "outputs": [],
   "source": [
    "import pandas as pd\n",
    "import numpy as np"
   ]
  },
  {
   "cell_type": "code",
   "execution_count": 37,
   "metadata": {},
   "outputs": [],
   "source": [
    "from sklearn.ensemble import RandomForestClassifier, VotingClassifier, AdaBoostClassifier\n",
    "from sklearn.linear_model import LogisticRegression\n",
    "from sklearn.datasets import make_moons, load_iris\n",
    "from sklearn.pipeline import Pipeline\n",
    "from sklearn.preprocessing import PolynomialFeatures\n",
    "from sklearn.model_selection import train_test_split\n",
    "from sklearn.metrics import accuracy_score\n",
    "from sklearn.svm import SVC"
   ]
  },
  {
   "cell_type": "code",
   "execution_count": 54,
   "metadata": {},
   "outputs": [],
   "source": [
    "x, y = make_moons(n_samples=100000, noise=0.15)\n",
    "x_train, x_test, y_train, y_test = train_test_split(x, y, test_size=0.2, random_state=2019)"
   ]
  },
  {
   "cell_type": "code",
   "execution_count": 10,
   "metadata": {},
   "outputs": [],
   "source": [
    "log_clf = LogisticRegression()\n",
    "rnd_clf = RandomForestClassifier()\n",
    "svm_clf = SVC()"
   ]
  },
  {
   "cell_type": "code",
   "execution_count": 11,
   "metadata": {},
   "outputs": [
    {
     "data": {
      "text/plain": [
       "VotingClassifier(estimators=[('lr',\n",
       "                              LogisticRegression(C=1.0, class_weight=None,\n",
       "                                                 dual=False, fit_intercept=True,\n",
       "                                                 intercept_scaling=1,\n",
       "                                                 l1_ratio=None, max_iter=100,\n",
       "                                                 multi_class='auto',\n",
       "                                                 n_jobs=None, penalty='l2',\n",
       "                                                 random_state=None,\n",
       "                                                 solver='lbfgs', tol=0.0001,\n",
       "                                                 verbose=0, warm_start=False)),\n",
       "                             ('rf',\n",
       "                              RandomForestClassifier(bootstrap=True,\n",
       "                                                     ccp_alpha=0.0,\n",
       "                                                     class_weight=None,\n",
       "                                                     cr...\n",
       "                                                     oob_score=False,\n",
       "                                                     random_state=None,\n",
       "                                                     verbose=0,\n",
       "                                                     warm_start=False)),\n",
       "                             ('svc',\n",
       "                              SVC(C=1.0, break_ties=False, cache_size=200,\n",
       "                                  class_weight=None, coef0=0.0,\n",
       "                                  decision_function_shape='ovr', degree=3,\n",
       "                                  gamma='scale', kernel='rbf', max_iter=-1,\n",
       "                                  probability=False, random_state=None,\n",
       "                                  shrinking=True, tol=0.001, verbose=False))],\n",
       "                 flatten_transform=True, n_jobs=None, voting='hard',\n",
       "                 weights=None)"
      ]
     },
     "execution_count": 11,
     "metadata": {},
     "output_type": "execute_result"
    }
   ],
   "source": [
    "vot_clf = VotingClassifier(estimators=\n",
    "                          [('lr', log_clf) , ('rf', rnd_clf), ('svc', svm_clf)], voting='hard')\n",
    "\n",
    "vot_clf.fit(x_train, y_train)"
   ]
  },
  {
   "cell_type": "code",
   "execution_count": 12,
   "metadata": {},
   "outputs": [
    {
     "name": "stdout",
     "output_type": "stream",
     "text": [
      "LogisticRegression 0.915\n",
      "RandomForestClassifier 0.995\n",
      "SVC 0.995\n",
      "VotingClassifier 0.995\n"
     ]
    }
   ],
   "source": [
    "for clf in (log_clf, rnd_clf, svm_clf, vot_clf):\n",
    "    clf.fit(x_train, y_train)\n",
    "    y_pred = clf.predict(x_test)\n",
    "    print(clf.__class__.__name__, accuracy_score(y_test, y_pred))"
   ]
  },
  {
   "cell_type": "code",
   "execution_count": 13,
   "metadata": {},
   "outputs": [],
   "source": [
    "svm_clf = SVC(probability=True)\n",
    "vot_clf = VotingClassifier(estimators=\n",
    "                          [('lr', log_clf) , ('rf', rnd_clf), ('svc', svm_clf)], voting='soft')\n"
   ]
  },
  {
   "cell_type": "code",
   "execution_count": 14,
   "metadata": {},
   "outputs": [
    {
     "name": "stdout",
     "output_type": "stream",
     "text": [
      "LogisticRegression 0.915\n",
      "RandomForestClassifier 0.995\n",
      "SVC 0.995\n",
      "VotingClassifier 0.99\n"
     ]
    }
   ],
   "source": [
    "for clf in (log_clf, rnd_clf, svm_clf, vot_clf):\n",
    "    clf.fit(x_train, y_train)\n",
    "    y_pred = clf.predict(x_test)\n",
    "    print(clf.__class__.__name__, accuracy_score(y_test, y_pred))"
   ]
  },
  {
   "cell_type": "code",
   "execution_count": 15,
   "metadata": {},
   "outputs": [],
   "source": [
    "from sklearn.ensemble import BaggingClassifier\n",
    "from sklearn.tree import DecisionTreeClassifier\n",
    "bag_clf = BaggingClassifier(DecisionTreeClassifier(), n_estimators=500, max_samples=100, bootstrap=True, n_jobs=-1)"
   ]
  },
  {
   "cell_type": "code",
   "execution_count": 16,
   "metadata": {},
   "outputs": [],
   "source": [
    "bag_clf.fit(x_train, y_train)\n",
    "y_pred = bag_clf.predict(x_test)"
   ]
  },
  {
   "cell_type": "code",
   "execution_count": 17,
   "metadata": {},
   "outputs": [
    {
     "data": {
      "text/plain": [
       "array([0, 0, 1, 0, 0, 0, 1, 0, 0, 0, 1, 0, 1, 1, 0, 0, 0, 0, 1, 1, 1, 1,\n",
       "       1, 0, 1, 0, 1, 1, 0, 1, 0, 0, 1, 0, 1, 1, 0, 1, 0, 0, 0, 1, 0, 0,\n",
       "       1, 0, 0, 0, 1, 0, 1, 0, 0, 0, 1, 1, 1, 1, 0, 0, 0, 1, 0, 1, 1, 0,\n",
       "       1, 0, 1, 0, 0, 1, 1, 1, 1, 0, 0, 0, 0, 0, 1, 0, 1, 0, 1, 1, 0, 0,\n",
       "       0, 0, 0, 0, 0, 0, 1, 0, 0, 0, 0, 0, 1, 0, 1, 0, 0, 0, 1, 0, 0, 1,\n",
       "       0, 1, 1, 0, 1, 1, 1, 0, 0, 1, 1, 1, 1, 1, 0, 1, 1, 1, 0, 1, 0, 1,\n",
       "       1, 0, 0, 0, 1, 0, 0, 0, 1, 0, 1, 1, 1, 0, 0, 1, 0, 1, 0, 0, 1, 0,\n",
       "       0, 0, 1, 1, 0, 1, 0, 1, 1, 0, 0, 1, 1, 0, 0, 1, 1, 0, 1, 1, 0, 0,\n",
       "       0, 1, 0, 1, 0, 0, 0, 0, 1, 0, 0, 1, 0, 1, 0, 1, 0, 0, 0, 1, 1, 1,\n",
       "       0, 1], dtype=int64)"
      ]
     },
     "execution_count": 17,
     "metadata": {},
     "output_type": "execute_result"
    }
   ],
   "source": [
    "y_pred"
   ]
  },
  {
   "cell_type": "code",
   "execution_count": 18,
   "metadata": {},
   "outputs": [
    {
     "data": {
      "text/plain": [
       "0.985"
      ]
     },
     "execution_count": 18,
     "metadata": {},
     "output_type": "execute_result"
    }
   ],
   "source": [
    "accuracy_score(y_test, y_pred)"
   ]
  },
  {
   "cell_type": "code",
   "execution_count": 19,
   "metadata": {},
   "outputs": [],
   "source": [
    "y_pred_proba = bag_clf.predict_proba(x_test)"
   ]
  },
  {
   "cell_type": "code",
   "execution_count": 20,
   "metadata": {},
   "outputs": [
    {
     "data": {
      "text/plain": [
       "array([[0.972, 0.028],\n",
       "       [0.956, 0.044],\n",
       "       [0.   , 1.   ],\n",
       "       [0.916, 0.084],\n",
       "       [0.992, 0.008],\n",
       "       [0.956, 0.044],\n",
       "       [0.06 , 0.94 ],\n",
       "       [1.   , 0.   ],\n",
       "       [0.998, 0.002],\n",
       "       [0.988, 0.012],\n",
       "       [0.   , 1.   ],\n",
       "       [0.992, 0.008],\n",
       "       [0.   , 1.   ],\n",
       "       [0.064, 0.936],\n",
       "       [1.   , 0.   ],\n",
       "       [0.946, 0.054],\n",
       "       [0.96 , 0.04 ],\n",
       "       [0.634, 0.366],\n",
       "       [0.034, 0.966],\n",
       "       [0.012, 0.988],\n",
       "       [0.008, 0.992],\n",
       "       [0.   , 1.   ],\n",
       "       [0.032, 0.968],\n",
       "       [0.976, 0.024],\n",
       "       [0.09 , 0.91 ],\n",
       "       [0.884, 0.116],\n",
       "       [0.002, 0.998],\n",
       "       [0.002, 0.998],\n",
       "       [0.978, 0.022],\n",
       "       [0.102, 0.898],\n",
       "       [0.996, 0.004],\n",
       "       [0.938, 0.062],\n",
       "       [0.006, 0.994],\n",
       "       [0.894, 0.106],\n",
       "       [0.056, 0.944],\n",
       "       [0.   , 1.   ],\n",
       "       [0.964, 0.036],\n",
       "       [0.016, 0.984],\n",
       "       [0.544, 0.456],\n",
       "       [0.988, 0.012],\n",
       "       [1.   , 0.   ],\n",
       "       [0.014, 0.986],\n",
       "       [1.   , 0.   ],\n",
       "       [0.97 , 0.03 ],\n",
       "       [0.   , 1.   ],\n",
       "       [0.986, 0.014],\n",
       "       [0.964, 0.036],\n",
       "       [1.   , 0.   ],\n",
       "       [0.   , 1.   ],\n",
       "       [0.918, 0.082],\n",
       "       [0.014, 0.986],\n",
       "       [1.   , 0.   ],\n",
       "       [0.89 , 0.11 ],\n",
       "       [0.996, 0.004],\n",
       "       [0.09 , 0.91 ],\n",
       "       [0.014, 0.986],\n",
       "       [0.002, 0.998],\n",
       "       [0.   , 1.   ],\n",
       "       [0.984, 0.016],\n",
       "       [1.   , 0.   ],\n",
       "       [0.994, 0.006],\n",
       "       [0.   , 1.   ],\n",
       "       [0.872, 0.128],\n",
       "       [0.074, 0.926],\n",
       "       [0.03 , 0.97 ],\n",
       "       [0.99 , 0.01 ],\n",
       "       [0.002, 0.998],\n",
       "       [1.   , 0.   ],\n",
       "       [0.02 , 0.98 ],\n",
       "       [1.   , 0.   ],\n",
       "       [0.98 , 0.02 ],\n",
       "       [0.022, 0.978],\n",
       "       [0.038, 0.962],\n",
       "       [0.028, 0.972],\n",
       "       [0.204, 0.796],\n",
       "       [1.   , 0.   ],\n",
       "       [0.996, 0.004],\n",
       "       [0.988, 0.012],\n",
       "       [0.978, 0.022],\n",
       "       [0.996, 0.004],\n",
       "       [0.06 , 0.94 ],\n",
       "       [0.64 , 0.36 ],\n",
       "       [0.004, 0.996],\n",
       "       [1.   , 0.   ],\n",
       "       [0.116, 0.884],\n",
       "       [0.014, 0.986],\n",
       "       [1.   , 0.   ],\n",
       "       [0.994, 0.006],\n",
       "       [0.994, 0.006],\n",
       "       [0.694, 0.306],\n",
       "       [0.994, 0.006],\n",
       "       [0.904, 0.096],\n",
       "       [1.   , 0.   ],\n",
       "       [0.956, 0.044],\n",
       "       [0.022, 0.978],\n",
       "       [0.994, 0.006],\n",
       "       [0.962, 0.038],\n",
       "       [0.976, 0.024],\n",
       "       [0.92 , 0.08 ],\n",
       "       [0.536, 0.464],\n",
       "       [0.   , 1.   ],\n",
       "       [0.75 , 0.25 ],\n",
       "       [0.   , 1.   ],\n",
       "       [0.774, 0.226],\n",
       "       [1.   , 0.   ],\n",
       "       [1.   , 0.   ],\n",
       "       [0.048, 0.952],\n",
       "       [0.988, 0.012],\n",
       "       [0.942, 0.058],\n",
       "       [0.002, 0.998],\n",
       "       [0.994, 0.006],\n",
       "       [0.   , 1.   ],\n",
       "       [0.002, 0.998],\n",
       "       [0.804, 0.196],\n",
       "       [0.   , 1.   ],\n",
       "       [0.028, 0.972],\n",
       "       [0.018, 0.982],\n",
       "       [0.976, 0.024],\n",
       "       [0.994, 0.006],\n",
       "       [0.072, 0.928],\n",
       "       [0.   , 1.   ],\n",
       "       [0.06 , 0.94 ],\n",
       "       [0.042, 0.958],\n",
       "       [0.432, 0.568],\n",
       "       [0.82 , 0.18 ],\n",
       "       [0.092, 0.908],\n",
       "       [0.078, 0.922],\n",
       "       [0.03 , 0.97 ],\n",
       "       [0.962, 0.038],\n",
       "       [0.074, 0.926],\n",
       "       [1.   , 0.   ],\n",
       "       [0.002, 0.998],\n",
       "       [0.   , 1.   ],\n",
       "       [0.984, 0.016],\n",
       "       [1.   , 0.   ],\n",
       "       [0.998, 0.002],\n",
       "       [0.014, 0.986],\n",
       "       [0.894, 0.106],\n",
       "       [0.92 , 0.08 ],\n",
       "       [1.   , 0.   ],\n",
       "       [0.05 , 0.95 ],\n",
       "       [0.928, 0.072],\n",
       "       [0.096, 0.904],\n",
       "       [0.074, 0.926],\n",
       "       [0.048, 0.952],\n",
       "       [1.   , 0.   ],\n",
       "       [0.978, 0.022],\n",
       "       [0.002, 0.998],\n",
       "       [0.958, 0.042],\n",
       "       [0.   , 1.   ],\n",
       "       [0.994, 0.006],\n",
       "       [0.918, 0.082],\n",
       "       [0.   , 1.   ],\n",
       "       [0.984, 0.016],\n",
       "       [0.928, 0.072],\n",
       "       [0.928, 0.072],\n",
       "       [0.116, 0.884],\n",
       "       [0.01 , 0.99 ],\n",
       "       [0.912, 0.088],\n",
       "       [0.126, 0.874],\n",
       "       [0.976, 0.024],\n",
       "       [0.   , 1.   ],\n",
       "       [0.026, 0.974],\n",
       "       [0.916, 0.084],\n",
       "       [0.812, 0.188],\n",
       "       [0.07 , 0.93 ],\n",
       "       [0.21 , 0.79 ],\n",
       "       [0.998, 0.002],\n",
       "       [0.824, 0.176],\n",
       "       [0.   , 1.   ],\n",
       "       [0.044, 0.956],\n",
       "       [0.916, 0.084],\n",
       "       [0.   , 1.   ],\n",
       "       [0.038, 0.962],\n",
       "       [0.816, 0.184],\n",
       "       [0.976, 0.024],\n",
       "       [1.   , 0.   ],\n",
       "       [0.002, 0.998],\n",
       "       [0.964, 0.036],\n",
       "       [0.   , 1.   ],\n",
       "       [0.832, 0.168],\n",
       "       [0.994, 0.006],\n",
       "       [0.956, 0.044],\n",
       "       [0.97 , 0.03 ],\n",
       "       [0.04 , 0.96 ],\n",
       "       [0.952, 0.048],\n",
       "       [0.75 , 0.25 ],\n",
       "       [0.   , 1.   ],\n",
       "       [0.982, 0.018],\n",
       "       [0.   , 1.   ],\n",
       "       [0.996, 0.004],\n",
       "       [0.068, 0.932],\n",
       "       [0.99 , 0.01 ],\n",
       "       [1.   , 0.   ],\n",
       "       [0.916, 0.084],\n",
       "       [0.   , 1.   ],\n",
       "       [0.042, 0.958],\n",
       "       [0.09 , 0.91 ],\n",
       "       [1.   , 0.   ],\n",
       "       [0.018, 0.982]])"
      ]
     },
     "execution_count": 20,
     "metadata": {},
     "output_type": "execute_result"
    }
   ],
   "source": [
    "y_pred_proba"
   ]
  },
  {
   "cell_type": "code",
   "execution_count": 25,
   "metadata": {},
   "outputs": [],
   "source": [
    "bag_clf = BaggingClassifier(DecisionTreeClassifier(), n_estimators=500, bootstrap=True, n_jobs=-1, oob_score=True)\n"
   ]
  },
  {
   "cell_type": "code",
   "execution_count": 26,
   "metadata": {},
   "outputs": [
    {
     "data": {
      "text/plain": [
       "BaggingClassifier(base_estimator=DecisionTreeClassifier(ccp_alpha=0.0,\n",
       "                                                        class_weight=None,\n",
       "                                                        criterion='gini',\n",
       "                                                        max_depth=None,\n",
       "                                                        max_features=None,\n",
       "                                                        max_leaf_nodes=None,\n",
       "                                                        min_impurity_decrease=0.0,\n",
       "                                                        min_impurity_split=None,\n",
       "                                                        min_samples_leaf=1,\n",
       "                                                        min_samples_split=2,\n",
       "                                                        min_weight_fraction_leaf=0.0,\n",
       "                                                        presort='deprecated',\n",
       "                                                        random_state=None,\n",
       "                                                        splitter='best'),\n",
       "                  bootstrap=True, bootstrap_features=False, max_features=1.0,\n",
       "                  max_samples=1.0, n_estimators=500, n_jobs=-1, oob_score=True,\n",
       "                  random_state=None, verbose=0, warm_start=False)"
      ]
     },
     "execution_count": 26,
     "metadata": {},
     "output_type": "execute_result"
    }
   ],
   "source": [
    "bag_clf.fit(x_train, y_train)"
   ]
  },
  {
   "cell_type": "code",
   "execution_count": 27,
   "metadata": {},
   "outputs": [
    {
     "data": {
      "text/plain": [
       "0.98375"
      ]
     },
     "execution_count": 27,
     "metadata": {},
     "output_type": "execute_result"
    }
   ],
   "source": [
    "bag_clf.oob_score_"
   ]
  },
  {
   "cell_type": "code",
   "execution_count": 28,
   "metadata": {},
   "outputs": [
    {
     "data": {
      "text/plain": [
       "0.985"
      ]
     },
     "execution_count": 28,
     "metadata": {},
     "output_type": "execute_result"
    }
   ],
   "source": [
    "y_pred = bag_clf.predict(x_test)\n",
    "accuracy_score(y_test, y_pred)"
   ]
  },
  {
   "cell_type": "code",
   "execution_count": 29,
   "metadata": {},
   "outputs": [],
   "source": [
    "rnd_clf = RandomForestClassifier(n_estimators=500, max_leaf_nodes=16, n_jobs=-1)"
   ]
  },
  {
   "cell_type": "code",
   "execution_count": 30,
   "metadata": {},
   "outputs": [
    {
     "data": {
      "text/plain": [
       "RandomForestClassifier(bootstrap=True, ccp_alpha=0.0, class_weight=None,\n",
       "                       criterion='gini', max_depth=None, max_features='auto',\n",
       "                       max_leaf_nodes=16, max_samples=None,\n",
       "                       min_impurity_decrease=0.0, min_impurity_split=None,\n",
       "                       min_samples_leaf=1, min_samples_split=2,\n",
       "                       min_weight_fraction_leaf=0.0, n_estimators=500,\n",
       "                       n_jobs=-1, oob_score=False, random_state=None, verbose=0,\n",
       "                       warm_start=False)"
      ]
     },
     "execution_count": 30,
     "metadata": {},
     "output_type": "execute_result"
    }
   ],
   "source": [
    "rnd_clf.fit(x_train, y_train)"
   ]
  },
  {
   "cell_type": "code",
   "execution_count": 31,
   "metadata": {},
   "outputs": [],
   "source": [
    "y_pred_rf = rnd_clf.predict(x_test)"
   ]
  },
  {
   "cell_type": "code",
   "execution_count": 33,
   "metadata": {},
   "outputs": [],
   "source": [
    "iris = load_iris()"
   ]
  },
  {
   "cell_type": "code",
   "execution_count": 34,
   "metadata": {},
   "outputs": [],
   "source": [
    "rnd_clf = RandomForestClassifier(n_estimators=500, n_jobs=-1)"
   ]
  },
  {
   "cell_type": "code",
   "execution_count": 35,
   "metadata": {},
   "outputs": [
    {
     "data": {
      "text/plain": [
       "RandomForestClassifier(bootstrap=True, ccp_alpha=0.0, class_weight=None,\n",
       "                       criterion='gini', max_depth=None, max_features='auto',\n",
       "                       max_leaf_nodes=None, max_samples=None,\n",
       "                       min_impurity_decrease=0.0, min_impurity_split=None,\n",
       "                       min_samples_leaf=1, min_samples_split=2,\n",
       "                       min_weight_fraction_leaf=0.0, n_estimators=500,\n",
       "                       n_jobs=-1, oob_score=False, random_state=None, verbose=0,\n",
       "                       warm_start=False)"
      ]
     },
     "execution_count": 35,
     "metadata": {},
     "output_type": "execute_result"
    }
   ],
   "source": [
    "rnd_clf.fit(iris['data'], iris['target'])"
   ]
  },
  {
   "cell_type": "code",
   "execution_count": 36,
   "metadata": {},
   "outputs": [
    {
     "name": "stdout",
     "output_type": "stream",
     "text": [
      "sepal length (cm) 0.10516054712783673\n",
      "sepal width (cm) 0.025421940979784244\n",
      "petal length (cm) 0.41526866380811184\n",
      "petal width (cm) 0.4541488480842672\n"
     ]
    }
   ],
   "source": [
    "for name, score in zip(iris['feature_names'], rnd_clf.feature_importances_):\n",
    "    print(name, score)"
   ]
  },
  {
   "cell_type": "code",
   "execution_count": 57,
   "metadata": {},
   "outputs": [
    {
     "data": {
      "text/plain": [
       "AdaBoostClassifier(algorithm='SAMME.R',\n",
       "                   base_estimator=DecisionTreeClassifier(ccp_alpha=0.0,\n",
       "                                                         class_weight=None,\n",
       "                                                         criterion='gini',\n",
       "                                                         max_depth=1,\n",
       "                                                         max_features=None,\n",
       "                                                         max_leaf_nodes=None,\n",
       "                                                         min_impurity_decrease=0.0,\n",
       "                                                         min_impurity_split=None,\n",
       "                                                         min_samples_leaf=1,\n",
       "                                                         min_samples_split=2,\n",
       "                                                         min_weight_fraction_leaf=0.0,\n",
       "                                                         presort='deprecated',\n",
       "                                                         random_state=None,\n",
       "                                                         splitter='best'),\n",
       "                   learning_rate=0.5, n_estimators=50, random_state=None)"
      ]
     },
     "execution_count": 57,
     "metadata": {},
     "output_type": "execute_result"
    }
   ],
   "source": [
    "ada_clf = AdaBoostClassifier( DecisionTreeClassifier(max_depth=1), n_estimators=50, algorithm='SAMME.R', learning_rate=0.5)\n",
    "ada_clf.fit(x_train, y_train)"
   ]
  },
  {
   "cell_type": "code",
   "execution_count": 58,
   "metadata": {},
   "outputs": [
    {
     "data": {
      "text/plain": [
       "0.98995"
      ]
     },
     "execution_count": 58,
     "metadata": {},
     "output_type": "execute_result"
    }
   ],
   "source": [
    "y_pred = ada_clf.predict(x_test)\n",
    "accuracy_score(y_test, y_pred)"
   ]
  },
  {
   "cell_type": "code",
   "execution_count": 59,
   "metadata": {},
   "outputs": [],
   "source": [
    "from sklearn.tree import DecisionTreeRegressor"
   ]
  },
  {
   "cell_type": "code",
   "execution_count": 61,
   "metadata": {},
   "outputs": [
    {
     "data": {
      "text/plain": [
       "DecisionTreeRegressor(ccp_alpha=0.0, criterion='mse', max_depth=2,\n",
       "                      max_features=None, max_leaf_nodes=None,\n",
       "                      min_impurity_decrease=0.0, min_impurity_split=None,\n",
       "                      min_samples_leaf=1, min_samples_split=2,\n",
       "                      min_weight_fraction_leaf=0.0, presort='deprecated',\n",
       "                      random_state=None, splitter='best')"
      ]
     },
     "execution_count": 61,
     "metadata": {},
     "output_type": "execute_result"
    }
   ],
   "source": [
    "tree_reg1 = DecisionTreeRegressor(max_depth=2)\n",
    "tree_reg1.fit(x, y)"
   ]
  },
  {
   "cell_type": "code",
   "execution_count": 62,
   "metadata": {},
   "outputs": [],
   "source": [
    "y2 = y - tree_reg1.predict(x)"
   ]
  },
  {
   "cell_type": "code",
   "execution_count": 65,
   "metadata": {},
   "outputs": [
    {
     "data": {
      "text/plain": [
       "array([1, 1, 1, ..., 0, 0, 1], dtype=int64)"
      ]
     },
     "execution_count": 65,
     "metadata": {},
     "output_type": "execute_result"
    }
   ],
   "source": [
    "y"
   ]
  },
  {
   "cell_type": "code",
   "execution_count": 64,
   "metadata": {},
   "outputs": [
    {
     "data": {
      "text/plain": [
       "array([ 0.08859537,  0.08859537,  0.08859537, ..., -0.09221285,\n",
       "       -0.09221285,  0.08859537])"
      ]
     },
     "execution_count": 64,
     "metadata": {},
     "output_type": "execute_result"
    }
   ],
   "source": [
    "y2"
   ]
  },
  {
   "cell_type": "code",
   "execution_count": 63,
   "metadata": {},
   "outputs": [
    {
     "data": {
      "text/plain": [
       "DecisionTreeRegressor(ccp_alpha=0.0, criterion='mse', max_depth=2,\n",
       "                      max_features=None, max_leaf_nodes=None,\n",
       "                      min_impurity_decrease=0.0, min_impurity_split=None,\n",
       "                      min_samples_leaf=1, min_samples_split=2,\n",
       "                      min_weight_fraction_leaf=0.0, presort='deprecated',\n",
       "                      random_state=None, splitter='best')"
      ]
     },
     "execution_count": 63,
     "metadata": {},
     "output_type": "execute_result"
    }
   ],
   "source": [
    "tree_reg2 = DecisionTreeRegressor(max_depth=2)\n",
    "tree_reg2.fit(x, y2)"
   ]
  },
  {
   "cell_type": "code",
   "execution_count": 66,
   "metadata": {},
   "outputs": [
    {
     "data": {
      "text/plain": [
       "DecisionTreeRegressor(ccp_alpha=0.0, criterion='mse', max_depth=2,\n",
       "                      max_features=None, max_leaf_nodes=None,\n",
       "                      min_impurity_decrease=0.0, min_impurity_split=None,\n",
       "                      min_samples_leaf=1, min_samples_split=2,\n",
       "                      min_weight_fraction_leaf=0.0, presort='deprecated',\n",
       "                      random_state=None, splitter='best')"
      ]
     },
     "execution_count": 66,
     "metadata": {},
     "output_type": "execute_result"
    }
   ],
   "source": [
    "y3 = y2 - tree_reg2.predict(x)\n",
    "tree_reg3 = DecisionTreeRegressor(max_depth = 2)\n",
    "tree_reg3.fit(x, y3)"
   ]
  },
  {
   "cell_type": "code",
   "execution_count": 70,
   "metadata": {},
   "outputs": [],
   "source": [
    "y_pted = sum(tree.predict(x_test) for tree in (tree_reg1, tree_reg2 ,tree_reg3))"
   ]
  },
  {
   "cell_type": "code",
   "execution_count": 71,
   "metadata": {},
   "outputs": [
    {
     "data": {
      "text/plain": [
       "array([-0.05845481,  0.10962335, -0.00167434, ...,  0.86474599,\n",
       "        0.10962335,  1.04541772])"
      ]
     },
     "execution_count": 71,
     "metadata": {},
     "output_type": "execute_result"
    }
   ],
   "source": [
    "y_pted"
   ]
  },
  {
   "cell_type": "code",
   "execution_count": 72,
   "metadata": {},
   "outputs": [],
   "source": [
    "from sklearn.ensemble import GradientBoostingRegressor"
   ]
  },
  {
   "cell_type": "code",
   "execution_count": 73,
   "metadata": {},
   "outputs": [
    {
     "data": {
      "text/plain": [
       "GradientBoostingRegressor(alpha=0.9, ccp_alpha=0.0, criterion='friedman_mse',\n",
       "                          init=None, learning_rate=1.0, loss='ls', max_depth=2,\n",
       "                          max_features=None, max_leaf_nodes=None,\n",
       "                          min_impurity_decrease=0.0, min_impurity_split=None,\n",
       "                          min_samples_leaf=1, min_samples_split=2,\n",
       "                          min_weight_fraction_leaf=0.0, n_estimators=3,\n",
       "                          n_iter_no_change=None, presort='deprecated',\n",
       "                          random_state=None, subsample=1.0, tol=0.0001,\n",
       "                          validation_fraction=0.1, verbose=0, warm_start=False)"
      ]
     },
     "execution_count": 73,
     "metadata": {},
     "output_type": "execute_result"
    }
   ],
   "source": [
    "gbrt = GradientBoostingRegressor(max_depth=2, n_estimators=3, learning_rate=1.0)\n",
    "gbrt.fit(x, y)"
   ]
  },
  {
   "cell_type": "code",
   "execution_count": 74,
   "metadata": {},
   "outputs": [],
   "source": [
    "from sklearn.metrics import mean_squared_error"
   ]
  },
  {
   "cell_type": "code",
   "execution_count": 75,
   "metadata": {},
   "outputs": [],
   "source": [
    "x_train, x_val, y_train, y_val = train_test_split(x, y)"
   ]
  },
  {
   "cell_type": "code",
   "execution_count": 76,
   "metadata": {},
   "outputs": [
    {
     "data": {
      "text/plain": [
       "GradientBoostingRegressor(alpha=0.9, ccp_alpha=0.0, criterion='friedman_mse',\n",
       "                          init=None, learning_rate=0.1, loss='ls', max_depth=2,\n",
       "                          max_features=None, max_leaf_nodes=None,\n",
       "                          min_impurity_decrease=0.0, min_impurity_split=None,\n",
       "                          min_samples_leaf=1, min_samples_split=2,\n",
       "                          min_weight_fraction_leaf=0.0, n_estimators=120,\n",
       "                          n_iter_no_change=None, presort='deprecated',\n",
       "                          random_state=None, subsample=1.0, tol=0.0001,\n",
       "                          validation_fraction=0.1, verbose=0, warm_start=False)"
      ]
     },
     "execution_count": 76,
     "metadata": {},
     "output_type": "execute_result"
    }
   ],
   "source": [
    "gbrt = GradientBoostingRegressor(max_depth=2, n_estimators=120)\n",
    "gbrt.fit(x_train, y_train)"
   ]
  },
  {
   "cell_type": "code",
   "execution_count": 77,
   "metadata": {},
   "outputs": [],
   "source": [
    "errors = [mean_squared_error(y_val, y_pred) for y_pred in gbrt.staged_predict(x_val)]"
   ]
  },
  {
   "cell_type": "code",
   "execution_count": 78,
   "metadata": {},
   "outputs": [],
   "source": [
    "bst_n_estimators = np.argmin(errors) +1"
   ]
  },
  {
   "cell_type": "code",
   "execution_count": 79,
   "metadata": {},
   "outputs": [],
   "source": [
    "gbrt_best = GradientBoostingRegressor(max_depth=2, n_estimators=bst_n_estimators)"
   ]
  },
  {
   "cell_type": "code",
   "execution_count": 80,
   "metadata": {},
   "outputs": [
    {
     "data": {
      "text/plain": [
       "GradientBoostingRegressor(alpha=0.9, ccp_alpha=0.0, criterion='friedman_mse',\n",
       "                          init=None, learning_rate=0.1, loss='ls', max_depth=2,\n",
       "                          max_features=None, max_leaf_nodes=None,\n",
       "                          min_impurity_decrease=0.0, min_impurity_split=None,\n",
       "                          min_samples_leaf=1, min_samples_split=2,\n",
       "                          min_weight_fraction_leaf=0.0, n_estimators=120,\n",
       "                          n_iter_no_change=None, presort='deprecated',\n",
       "                          random_state=None, subsample=1.0, tol=0.0001,\n",
       "                          validation_fraction=0.1, verbose=0, warm_start=False)"
      ]
     },
     "execution_count": 80,
     "metadata": {},
     "output_type": "execute_result"
    }
   ],
   "source": [
    "gbrt_best.fit(x_train, y_train)"
   ]
  },
  {
   "cell_type": "code",
   "execution_count": 82,
   "metadata": {},
   "outputs": [
    {
     "data": {
      "text/plain": [
       "0.02255864493617247"
      ]
     },
     "execution_count": 82,
     "metadata": {},
     "output_type": "execute_result"
    }
   ],
   "source": [
    "y_pred = gbrt_best.predict(x_val)\n",
    "mean_squared_error(y_val, y_pred)"
   ]
  },
  {
   "cell_type": "code",
   "execution_count": 87,
   "metadata": {},
   "outputs": [],
   "source": [
    "gbrt = GradientBoostingRegressor(max_depth=2, warm_start=True)\n",
    "\n",
    "min_val_error = float('inf')\n",
    "error_going_up = 0\n",
    "for n_estimators in range(1, 120):\n",
    "    gbrt.n_estimators = n_estimators\n",
    "    gbrt.fit(x_train, y_train)\n",
    "    y_pred = gbrt.predict(x_val)\n",
    "    val_error = mean_squared_error(y_val, y_pred)\n",
    "    \n",
    "    if val_error < min_val_error:\n",
    "        min_val_error = val_error\n",
    "        error_going_up = 0\n",
    "    else:\n",
    "        error_going_up += 1\n",
    "        if error_going_up == 5:\n",
    "            break\n"
   ]
  },
  {
   "cell_type": "code",
   "execution_count": 88,
   "metadata": {},
   "outputs": [
    {
     "data": {
      "text/plain": [
       "0.02264392131473066"
      ]
     },
     "execution_count": 88,
     "metadata": {},
     "output_type": "execute_result"
    }
   ],
   "source": [
    "min_val_error"
   ]
  },
  {
   "cell_type": "code",
   "execution_count": 89,
   "metadata": {},
   "outputs": [
    {
     "data": {
      "text/plain": [
       "1.0"
      ]
     },
     "execution_count": 89,
     "metadata": {},
     "output_type": "execute_result"
    }
   ],
   "source": [
    "gbrt.subsample"
   ]
  },
  {
   "cell_type": "code",
   "execution_count": 90,
   "metadata": {},
   "outputs": [
    {
     "name": "stdout",
     "output_type": "stream",
     "text": [
      "[12:45:31] WARNING: src/objective/regression_obj.cu:152: reg:linear is now deprecated in favor of reg:squarederror.\n"
     ]
    }
   ],
   "source": [
    "import xgboost\n",
    "\n",
    "xgb_reg = xgboost.XGBRegressor()\n",
    "xgb_reg.fit(x_train, y_train)\n",
    "y_pred = xgb_reg.predict(x_val)"
   ]
  },
  {
   "cell_type": "code",
   "execution_count": 91,
   "metadata": {},
   "outputs": [
    {
     "name": "stdout",
     "output_type": "stream",
     "text": [
      "[12:46:17] WARNING: src/objective/regression_obj.cu:152: reg:linear is now deprecated in favor of reg:squarederror.\n",
      "[0]\tvalidation_0-rmse:0.463541\n",
      "Will train until validation_0-rmse hasn't improved in 2 rounds.\n",
      "[1]\tvalidation_0-rmse:0.431659\n",
      "[2]\tvalidation_0-rmse:0.403852\n",
      "[3]\tvalidation_0-rmse:0.379565\n",
      "[4]\tvalidation_0-rmse:0.358365\n",
      "[5]\tvalidation_0-rmse:0.339048\n",
      "[6]\tvalidation_0-rmse:0.322055\n",
      "[7]\tvalidation_0-rmse:0.306998\n",
      "[8]\tvalidation_0-rmse:0.293372\n",
      "[9]\tvalidation_0-rmse:0.280935\n",
      "[10]\tvalidation_0-rmse:0.269957\n",
      "[11]\tvalidation_0-rmse:0.259773\n",
      "[12]\tvalidation_0-rmse:0.251027\n",
      "[13]\tvalidation_0-rmse:0.242756\n",
      "[14]\tvalidation_0-rmse:0.235084\n",
      "[15]\tvalidation_0-rmse:0.227314\n",
      "[16]\tvalidation_0-rmse:0.220215\n",
      "[17]\tvalidation_0-rmse:0.213216\n",
      "[18]\tvalidation_0-rmse:0.20695\n",
      "[19]\tvalidation_0-rmse:0.201008\n",
      "[20]\tvalidation_0-rmse:0.195652\n",
      "[21]\tvalidation_0-rmse:0.190494\n",
      "[22]\tvalidation_0-rmse:0.185923\n",
      "[23]\tvalidation_0-rmse:0.181639\n",
      "[24]\tvalidation_0-rmse:0.177797\n",
      "[25]\tvalidation_0-rmse:0.174072\n",
      "[26]\tvalidation_0-rmse:0.170861\n",
      "[27]\tvalidation_0-rmse:0.167671\n",
      "[28]\tvalidation_0-rmse:0.164679\n",
      "[29]\tvalidation_0-rmse:0.162061\n",
      "[30]\tvalidation_0-rmse:0.159706\n",
      "[31]\tvalidation_0-rmse:0.157338\n",
      "[32]\tvalidation_0-rmse:0.155294\n",
      "[33]\tvalidation_0-rmse:0.153203\n",
      "[34]\tvalidation_0-rmse:0.151393\n",
      "[35]\tvalidation_0-rmse:0.149775\n",
      "[36]\tvalidation_0-rmse:0.1484\n",
      "[37]\tvalidation_0-rmse:0.146652\n",
      "[38]\tvalidation_0-rmse:0.144831\n",
      "[39]\tvalidation_0-rmse:0.143702\n",
      "[40]\tvalidation_0-rmse:0.142401\n",
      "[41]\tvalidation_0-rmse:0.140916\n",
      "[42]\tvalidation_0-rmse:0.139743\n",
      "[43]\tvalidation_0-rmse:0.138747\n",
      "[44]\tvalidation_0-rmse:0.137909\n",
      "[45]\tvalidation_0-rmse:0.136768\n",
      "[46]\tvalidation_0-rmse:0.136005\n",
      "[47]\tvalidation_0-rmse:0.134985\n",
      "[48]\tvalidation_0-rmse:0.13399\n",
      "[49]\tvalidation_0-rmse:0.133108\n",
      "[50]\tvalidation_0-rmse:0.13207\n",
      "[51]\tvalidation_0-rmse:0.131532\n",
      "[52]\tvalidation_0-rmse:0.131054\n",
      "[53]\tvalidation_0-rmse:0.130288\n",
      "[54]\tvalidation_0-rmse:0.1294\n",
      "[55]\tvalidation_0-rmse:0.128762\n",
      "[56]\tvalidation_0-rmse:0.12814\n",
      "[57]\tvalidation_0-rmse:0.127709\n",
      "[58]\tvalidation_0-rmse:0.127011\n",
      "[59]\tvalidation_0-rmse:0.126617\n",
      "[60]\tvalidation_0-rmse:0.125985\n",
      "[61]\tvalidation_0-rmse:0.125559\n",
      "[62]\tvalidation_0-rmse:0.124853\n",
      "[63]\tvalidation_0-rmse:0.124164\n",
      "[64]\tvalidation_0-rmse:0.123779\n",
      "[65]\tvalidation_0-rmse:0.122714\n",
      "[66]\tvalidation_0-rmse:0.122408\n",
      "[67]\tvalidation_0-rmse:0.121937\n",
      "[68]\tvalidation_0-rmse:0.121269\n",
      "[69]\tvalidation_0-rmse:0.120853\n",
      "[70]\tvalidation_0-rmse:0.120504\n",
      "[71]\tvalidation_0-rmse:0.119917\n",
      "[72]\tvalidation_0-rmse:0.119524\n",
      "[73]\tvalidation_0-rmse:0.119125\n",
      "[74]\tvalidation_0-rmse:0.118794\n",
      "[75]\tvalidation_0-rmse:0.118543\n",
      "[76]\tvalidation_0-rmse:0.118012\n",
      "[77]\tvalidation_0-rmse:0.117518\n",
      "[78]\tvalidation_0-rmse:0.117083\n",
      "[79]\tvalidation_0-rmse:0.116797\n",
      "[80]\tvalidation_0-rmse:0.116415\n",
      "[81]\tvalidation_0-rmse:0.116138\n",
      "[82]\tvalidation_0-rmse:0.115892\n",
      "[83]\tvalidation_0-rmse:0.115662\n",
      "[84]\tvalidation_0-rmse:0.115453\n",
      "[85]\tvalidation_0-rmse:0.115246\n",
      "[86]\tvalidation_0-rmse:0.115064\n",
      "[87]\tvalidation_0-rmse:0.114826\n",
      "[88]\tvalidation_0-rmse:0.114692\n",
      "[89]\tvalidation_0-rmse:0.114546\n",
      "[90]\tvalidation_0-rmse:0.114424\n",
      "[91]\tvalidation_0-rmse:0.114216\n",
      "[92]\tvalidation_0-rmse:0.113757\n",
      "[93]\tvalidation_0-rmse:0.113551\n",
      "[94]\tvalidation_0-rmse:0.113353\n",
      "[95]\tvalidation_0-rmse:0.113169\n",
      "[96]\tvalidation_0-rmse:0.112981\n",
      "[97]\tvalidation_0-rmse:0.11279\n",
      "[98]\tvalidation_0-rmse:0.112608\n",
      "[99]\tvalidation_0-rmse:0.112489\n"
     ]
    }
   ],
   "source": [
    "xgb_reg.fit(x_train, y_train, eval_set=[(x_val, y_val)], early_stopping_rounds=2)\n",
    "y_pred = xgb_reg.predict(x_val)"
   ]
  },
  {
   "cell_type": "code",
   "execution_count": null,
   "metadata": {},
   "outputs": [],
   "source": []
  }
 ],
 "metadata": {
  "kernelspec": {
   "display_name": "Python 3",
   "language": "python",
   "name": "python3"
  },
  "language_info": {
   "codemirror_mode": {
    "name": "ipython",
    "version": 3
   },
   "file_extension": ".py",
   "mimetype": "text/x-python",
   "name": "python",
   "nbconvert_exporter": "python",
   "pygments_lexer": "ipython3",
   "version": "3.7.6"
  }
 },
 "nbformat": 4,
 "nbformat_minor": 4
}
